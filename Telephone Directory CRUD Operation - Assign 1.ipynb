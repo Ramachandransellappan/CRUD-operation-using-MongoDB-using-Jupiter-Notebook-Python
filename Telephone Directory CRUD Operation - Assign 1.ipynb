{
 "cells": [
  {
   "cell_type": "code",
   "execution_count": 2,
   "id": "c48330f9",
   "metadata": {},
   "outputs": [],
   "source": [
    "# Imported Necessary Modules\n",
    "import pymongo"
   ]
  },
  {
   "cell_type": "code",
   "execution_count": 3,
   "id": "91acf3cc",
   "metadata": {},
   "outputs": [],
   "source": [
    "client=pymongo.MongoClient('mongodb://127.0.0.1:27017/')"
   ]
  },
  {
   "cell_type": "code",
   "execution_count": 4,
   "id": "e9e7210d",
   "metadata": {},
   "outputs": [],
   "source": [
    "# Database creation(name=Telephone)\n",
    "mydb=client[\"Telephone\"]"
   ]
  },
  {
   "cell_type": "code",
   "execution_count": 6,
   "id": "6a5bdf7a",
   "metadata": {},
   "outputs": [],
   "source": [
    "# Created collection(name = db)\n",
    "db=mydb.db"
   ]
  },
  {
   "cell_type": "code",
   "execution_count": 9,
   "id": "50e74829",
   "metadata": {},
   "outputs": [],
   "source": [
    "record=[{\"Name\":\"Ramachandran\",\n",
    "    \"Age\":25,\n",
    "    \"City\":\"Pondicherry\",\n",
    "    \"ISP\":\"Airtel\",\n",
    "    \"Mobile No\":95481\n",
    "    },{  \n",
    "    \"Name\":\"Tehnmozhi\",\n",
    "    \"Age\":87,\n",
    "    \"City\":\"Pondicherry\",\n",
    "    \"ISP\":\"Airtel\",\n",
    "    \"Mobile No\":85481\n",
    "    },{\n",
    "    \"Name\":\"Bhavana\",\n",
    "    \"Age\":27,\n",
    "    \"City\":\"Chennai\",\n",
    "    \"ISP\":\"Bsnl\",\n",
    "    \"Mobile No\":94881\n",
    "    },{\n",
    "    \"Name\":\"Saranya\",\n",
    "    \"Age\":17,\n",
    "    \"City\":\"Kolkatha\",\n",
    "    \"ISP\":\"Bsnl\",\n",
    "    \"Mobile No\":84881\n",
    "    },{\n",
    "    \"Name\":\"Shalani\",\n",
    "    \"Age\":21,\n",
    "    \"City\":\"Chennai\",\n",
    "    \"ISP\":\"Vi\",\n",
    "    \"Mobile No\":94811\n",
    "    },{\n",
    "    \"Name\":\"Vijay\",\n",
    "    \"Age\":35,\n",
    "    \"City\":\"Delhi\",\n",
    "    \"ISP\":\"Bsnl\",\n",
    "    \"Mobile No\":91581\n",
    "    },{\n",
    "    \"Name\":\"Ajith\",\n",
    "    \"Age\":19,\n",
    "    \"City\":\"Mumbai\",\n",
    "    \"ISP\":\"Jio\",\n",
    "    \"Mobile No\":91881}]\n",
    "    "
   ]
  },
  {
   "cell_type": "code",
   "execution_count": 45,
   "id": "b803b5f1",
   "metadata": {},
   "outputs": [
    {
     "data": {
      "text/plain": [
       "<pymongo.results.InsertManyResult at 0x8679a534c0>"
      ]
     },
     "execution_count": 45,
     "metadata": {},
     "output_type": "execute_result"
    }
   ],
   "source": [
    "#CRUD Operataion\n",
    "# i) Create records\n",
    "db.insert_many(record)"
   ]
  },
  {
   "cell_type": "code",
   "execution_count": 31,
   "id": "2a4b6a77",
   "metadata": {},
   "outputs": [],
   "source": [
    "# ii) Retrieve information   \n",
    "all_record=db.find() #db is collection name"
   ]
  },
  {
   "cell_type": "code",
   "execution_count": 22,
   "id": "775ffb5b",
   "metadata": {},
   "outputs": [
    {
     "name": "stdout",
     "output_type": "stream",
     "text": [
      "{'_id': ObjectId('635dcec9d0324e99b23cf88d'), 'Name': 'Ramachandran', 'Age': 25, 'City': 'Pondicherry', 'ISP': 'Airtel', 'Mobile No': 95481}\n",
      "{'_id': ObjectId('635dd4ade53a1ed40fde2def'), 'Name': 'Tehnmozhi', 'Age': 87, 'City': 'Pondicherry', 'ISP': 'Airtel', 'Mobile No': 85481}\n",
      "{'_id': ObjectId('635dd4ade53a1ed40fde2df0'), 'Name': 'Bhavana', 'Age': 27, 'City': 'Chennai', 'ISP': 'Bsnl', 'Mobile No': 94881}\n",
      "{'_id': ObjectId('635dd4ade53a1ed40fde2df1'), 'Name': 'Saranya', 'Age': 17, 'City': 'Kolkatha', 'ISP': 'Bsnl', 'Mobile No': 84881}\n",
      "{'_id': ObjectId('635dd4ade53a1ed40fde2df2'), 'Name': 'Shalani', 'Age': 21, 'City': 'Chennai', 'ISP': 'Vi', 'Mobile No': 94811}\n",
      "{'_id': ObjectId('635dd4ade53a1ed40fde2df3'), 'Name': 'Vijay', 'Age': 35, 'City': 'Delhi', 'ISP': 'Bsnl', 'Mobile No': 91581}\n",
      "{'_id': ObjectId('635dd4ade53a1ed40fde2df4'), 'Name': 'Ajith', 'Age': 58, 'City': 'Pune', 'ISP': 'Jio', 'Mobile No': 91881}\n",
      "{'_id': ObjectId('635f2dc3f485e0552d6f2df9'), 'Name': 'Ramachandran', 'Age': 25, 'City': 'Pondicherry', 'ISP': 'Airtel', 'Mobile No': 95481}\n",
      "{'_id': ObjectId('635f2dc3f485e0552d6f2dfa'), 'Name': 'Tehnmozhi', 'Age': 87, 'City': 'Pondicherry', 'ISP': 'Airtel', 'Mobile No': 85481}\n",
      "{'_id': ObjectId('635f2dc3f485e0552d6f2dfb'), 'Name': 'Bhavana', 'Age': 27, 'City': 'Chennai', 'ISP': 'Bsnl', 'Mobile No': 94881}\n",
      "{'_id': ObjectId('635f2dc3f485e0552d6f2dfc'), 'Name': 'Saranya', 'Age': 17, 'City': 'Kolkatha', 'ISP': 'Bsnl', 'Mobile No': 84881}\n",
      "{'_id': ObjectId('635f2dc3f485e0552d6f2dfd'), 'Name': 'Shalani', 'Age': 21, 'City': 'Chennai', 'ISP': 'Vi', 'Mobile No': 94811}\n",
      "{'_id': ObjectId('635f2dc3f485e0552d6f2dfe'), 'Name': 'Vijay', 'Age': 35, 'City': 'Delhi', 'ISP': 'Bsnl', 'Mobile No': 91581}\n",
      "{'_id': ObjectId('635f2dc3f485e0552d6f2dff'), 'Name': 'Ajith', 'Age': 19, 'City': 'Mumbai', 'ISP': 'Jio', 'Mobile No': 91881}\n"
     ]
    }
   ],
   "source": [
    "for i in db.find():\n",
    "    print(i)"
   ]
  },
  {
   "cell_type": "code",
   "execution_count": null,
   "id": "cb0213eb",
   "metadata": {},
   "outputs": [],
   "source": []
  },
  {
   "cell_type": "code",
   "execution_count": 58,
   "id": "1255e6fb",
   "metadata": {},
   "outputs": [
    {
     "name": "stdout",
     "output_type": "stream",
     "text": [
      "{'_id': ObjectId('635dd4ade53a1ed40fde2df1'), 'Name': 'Saranya', 'Age': 17, 'City': 'Kolkatha', 'ISP': 'Bsnl', 'Mobile No': 84881}\n",
      "{'_id': ObjectId('635dd4ade53a1ed40fde2df4'), 'Name': 'Ajith', 'Age': 19, 'City': 'Mumbai', 'ISP': 'Jio', 'Mobile No': 91881}\n",
      "{'_id': ObjectId('635f2dc3f485e0552d6f2dfc'), 'Name': 'Saranya', 'Age': 17, 'City': 'Kolkatha', 'ISP': 'Bsnl', 'Mobile No': 84881}\n",
      "{'_id': ObjectId('635f2dc3f485e0552d6f2dff'), 'Name': 'Ajith', 'Age': 19, 'City': 'Mumbai', 'ISP': 'Jio', 'Mobile No': 91881}\n"
     ]
    }
   ],
   "source": [
    "for i in db.find({\"Age\":{\"$lt\":20}}):\n",
    "    print(i)"
   ]
  },
  {
   "cell_type": "code",
   "execution_count": 10,
   "id": "8688c77b",
   "metadata": {},
   "outputs": [
    {
     "data": {
      "text/plain": [
       "<pymongo.results.UpdateResult at 0xe5257921c0>"
      ]
     },
     "execution_count": 10,
     "metadata": {},
     "output_type": "execute_result"
    }
   ],
   "source": [
    "#Updating the collections\n",
    "client['Telephone']['db'].update_one({\"Name\":\"Ajith\"},{\"$set\": {\"Age\":58}})\n"
   ]
  },
  {
   "cell_type": "code",
   "execution_count": 14,
   "id": "4b483914",
   "metadata": {},
   "outputs": [
    {
     "name": "stdout",
     "output_type": "stream",
     "text": [
      "{'_id': ObjectId('635dd4ade53a1ed40fde2df4'), 'Name': 'Ajith', 'Age': 58, 'City': 'Pune', 'ISP': 'Jio', 'Mobile No': 91881}\n",
      "{'_id': ObjectId('635f2dc3f485e0552d6f2dff'), 'Name': 'Ajith', 'Age': 19, 'City': 'Mumbai', 'ISP': 'Jio', 'Mobile No': 91881}\n"
     ]
    }
   ],
   "source": [
    "for i in client['Telephone']['db'].find({\"Name\":{'$eq':'Ajith'}}):\n",
    "    print(i)"
   ]
  },
  {
   "cell_type": "code",
   "execution_count": 31,
   "id": "d3e9dcc7",
   "metadata": {},
   "outputs": [
    {
     "data": {
      "text/plain": [
       "<pymongo.results.DeleteResult at 0xe527e279a0>"
      ]
     },
     "execution_count": 31,
     "metadata": {},
     "output_type": "execute_result"
    }
   ],
   "source": [
    "#Deleteing in records\n",
    "client['Telephone']['db'].delete_many({\"Name\":[\"Bhavana\",\"Saranya\"]})"
   ]
  },
  {
   "cell_type": "code",
   "execution_count": 32,
   "id": "b22776c8",
   "metadata": {},
   "outputs": [
    {
     "name": "stdout",
     "output_type": "stream",
     "text": [
      "{'_id': ObjectId('635dd4ade53a1ed40fde2df0'), 'Name': 'Bhavana', 'Age': 27, 'City': 'Chennai', 'ISP': 'Bsnl', 'Mobile No': 94881}\n",
      "{'_id': ObjectId('635dd4ade53a1ed40fde2df1'), 'Name': 'Saranya', 'Age': 17, 'City': 'Kolkatha', 'ISP': 'Bsnl', 'Mobile No': 84881}\n",
      "{'_id': ObjectId('635dd4ade53a1ed40fde2df2'), 'Name': 'Shalani', 'Age': 21, 'City': 'Chennai', 'ISP': 'Vi', 'Mobile No': 94811}\n",
      "{'_id': ObjectId('635dd4ade53a1ed40fde2df3'), 'Name': 'Vijay', 'Age': 35, 'City': 'Delhi', 'ISP': 'Bsnl', 'Mobile No': 91581}\n",
      "{'_id': ObjectId('635dd4ade53a1ed40fde2df4'), 'Name': 'Ajith', 'Age': 58, 'City': 'Pune', 'ISP': 'Jio', 'Mobile No': 91881}\n",
      "{'_id': ObjectId('635f2dc3f485e0552d6f2dfb'), 'Name': 'Bhavana', 'Age': 27, 'City': 'Chennai', 'ISP': 'Bsnl', 'Mobile No': 94881}\n",
      "{'_id': ObjectId('635f2dc3f485e0552d6f2dfc'), 'Name': 'Saranya', 'Age': 17, 'City': 'Kolkatha', 'ISP': 'Bsnl', 'Mobile No': 84881}\n",
      "{'_id': ObjectId('635f2dc3f485e0552d6f2dfd'), 'Name': 'Shalani', 'Age': 21, 'City': 'Chennai', 'ISP': 'Vi', 'Mobile No': 94811}\n",
      "{'_id': ObjectId('635f2dc3f485e0552d6f2dfe'), 'Name': 'Vijay', 'Age': 35, 'City': 'Delhi', 'ISP': 'Bsnl', 'Mobile No': 91581}\n",
      "{'_id': ObjectId('635f2dc3f485e0552d6f2dff'), 'Name': 'Ajith', 'Age': 19, 'City': 'Mumbai', 'ISP': 'Jio', 'Mobile No': 91881}\n"
     ]
    }
   ],
   "source": [
    "for i in client['Telephone']['db'].find({}):\n",
    "    print(i)"
   ]
  }
 ],
 "metadata": {
  "kernelspec": {
   "display_name": "Python 3 (ipykernel)",
   "language": "python",
   "name": "python3"
  },
  "language_info": {
   "codemirror_mode": {
    "name": "ipython",
    "version": 3
   },
   "file_extension": ".py",
   "mimetype": "text/x-python",
   "name": "python",
   "nbconvert_exporter": "python",
   "pygments_lexer": "ipython3",
   "version": "3.9.13"
  }
 },
 "nbformat": 4,
 "nbformat_minor": 5
}
